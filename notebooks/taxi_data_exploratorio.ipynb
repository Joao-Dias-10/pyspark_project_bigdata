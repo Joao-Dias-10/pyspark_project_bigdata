{
 "cells": [
  {
   "cell_type": "markdown",
   "metadata": {},
   "source": [
    "# Estudo exploratório inicial com dados de táxi da NYC usando PySpark"
   ]
  },
  {
   "cell_type": "code",
   "execution_count": null,
   "metadata": {},
   "outputs": [],
   "source": [
    "import os\n",
    "import requests\n",
    "from pyspark.sql import SparkSession\n",
    "from pyspark.sql.functions import col, to_date, current_timestamp"
   ]
  },
  {
   "cell_type": "code",
   "execution_count": null,
   "metadata": {},
   "outputs": [],
   "source": [
    "url = \"https://d37ci6vzurychx.cloudfront.net/trip-data/yellow_tripdata_2025-01.parquet\"\n",
    "parquet_path = \"yellow_tripdata_2025-01.parquet\"\n",
    "\n",
    "def download_file(url, file_path):\n",
    "    if not os.path.exists(file_path):\n",
    "        print(\"Baixando arquivo...\")\n",
    "        response = requests.get(url)\n",
    "        with open(file_path, 'wb') as f:\n",
    "            f.write(response.content)\n",
    "        print(\"Download concluído.\")\n",
    "    else:\n",
    "        print(\"Arquivo já existe.\")\n",
    "\n",
    "download_file(url, parquet_path)"
   ]
  },
  {
   "cell_type": "code",
   "execution_count": null,
   "metadata": {},
   "outputs": [],
   "source": [
    "spark = SparkSession.builder \\\n",
    "    .appName(\"Exploração Dados Táxi NYC\") \\\n",
    "    .getOrCreate()"
   ]
  },
  {
   "cell_type": "code",
   "execution_count": null,
   "metadata": {},
   "outputs": [],
   "source": [
    "df = spark.read.parquet(parquet_path)\n",
    "df.printSchema()\n",
    "df.show(5)"
   ]
  },
  {
   "cell_type": "code",
   "execution_count": null,
   "metadata": {},
   "outputs": [],
   "source": [
    "df = df.withColumn(\"pickup_datetime\", (col(\"tpep_pickup_datetime\") / 1000).cast(\"timestamp\"))\n",
    "df = df.withColumn(\"dropoff_datetime\", (col(\"tpep_dropoff_datetime\") / 1000).cast(\"timestamp\"))\n",
    "df = df.withColumn(\"trip_duration\", (col(\"dropoff_datetime\").cast(\"long\") - col(\"pickup_datetime\").cast(\"long\")) / 60)\n",
    "\n",
    "df = df.fillna({\"passenger_count\": 1, \"fare_amount\": 0, \"tip_amount\": 0, \"total_amount\": 0})\n",
    "df = df.withColumn(\"trip_distance\", col(\"trip_distance\").cast(\"float\"))\n",
    "df = df.withColumn(\"fare_amount\", col(\"fare_amount\").cast(\"float\"))\n",
    "df = df.withColumn(\"tip_amount\", col(\"tip_amount\").cast(\"float\"))\n",
    "df = df.withColumn(\"total_amount\", col(\"total_amount\").cast(\"float\"))\n",
    "df = df.withColumn(\"last_updated\", current_timestamp())\n",
    "df = df.withColumn(\"pickup_date\", to_date(col(\"pickup_datetime\")))"
   ]
  },
  {
   "cell_type": "code",
   "execution_count": null,
   "metadata": {},
   "outputs": [],
   "source": [
    "df.select(\"pickup_datetime\", \"dropoff_datetime\", \"trip_distance\", \"fare_amount\", \"tip_amount\").show(5)"
   ]
  }
 ],
 "metadata": {
  "kernelspec": {
   "display_name": "Python 3",
   "language": "python",
   "name": "python3"
  },
  "language_info": {
   "name": "python",
   "version": ""
  }
 },
 "nbformat": 4,
 "nbformat_minor": 2
}
